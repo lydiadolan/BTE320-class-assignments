{
  "nbformat": 4,
  "nbformat_minor": 0,
  "metadata": {
    "colab": {
      "provenance": [],
      "authorship_tag": "ABX9TyM7Wl34QFwaqbFKMc7gtLV4",
      "include_colab_link": true
    },
    "kernelspec": {
      "name": "python3",
      "display_name": "Python 3"
    },
    "language_info": {
      "name": "python"
    }
  },
  "cells": [
    {
      "cell_type": "markdown",
      "metadata": {
        "id": "view-in-github",
        "colab_type": "text"
      },
      "source": [
        "<a href=\"https://colab.research.google.com/github/lydiadolan/BTE320-class-assignments/blob/main/In_Class_Assignments.ipynb\" target=\"_parent\"><img src=\"https://colab.research.google.com/assets/colab-badge.svg\" alt=\"Open In Colab\"/></a>"
      ]
    },
    {
      "cell_type": "code",
      "execution_count": 5,
      "metadata": {
        "colab": {
          "base_uri": "https://localhost:8080/"
        },
        "id": "YaOB3vaokKoL",
        "outputId": "8e249a2c-43a0-452c-8b18-297b38f3e42a"
      },
      "outputs": [
        {
          "output_type": "stream",
          "name": "stdout",
          "text": [
            "244.92000000000002\n"
          ]
        }
      ],
      "source": [
        "# Calculate surface area cylinder\n",
        "pi = 3.14 # Pi\n",
        "r = 3 # Radius\n",
        "h = 10 # Height\n",
        "\n",
        "# Calc area\n",
        "Area = 2 * pi * r * h + 2 * pi * r ** 2\n",
        "# Display result on screen\n",
        "print (Area)"
      ]
    },
    {
      "cell_type": "code",
      "source": [
        "p1 = input('Enter player 1 move (r->rock, p->paper, s->scissors):')\n",
        "p2 = input('Enter player 2 move (r->rock, p->paper, s->scissors):')\n",
        "\n",
        "if p1 == p2:\n",
        "  print('Draw')\n",
        "elif p1 == 'r':\n",
        "  if p2 == 'p':\n",
        "    print('Player 2 wins')\n",
        "  if p2 == 's':\n",
        "    print('Player 1')\n",
        "elif p1 == 'p':\n",
        "  if p2 == 'r':\n",
        "    print('Player 1 wins')\n",
        "  if p2 == 's':\n",
        "    print('Player 2 wins')\n",
        "elif p1 == 's':\n",
        "  if p2 == 'r':\n",
        "    print('Player 2 wins')\n",
        "  if p2 == 'p':\n",
        "    print('Player 1 wins')"
      ],
      "metadata": {
        "colab": {
          "base_uri": "https://localhost:8080/"
        },
        "id": "N85Re1cQsOqV",
        "outputId": "43b41126-08a9-4a17-8f50-bfda732b0671"
      },
      "execution_count": 6,
      "outputs": [
        {
          "output_type": "stream",
          "name": "stdout",
          "text": [
            "Enter player 1 move (r->rock, p->paper, s->scissors):r\n",
            "Enter player 2 move (r->rock, p->paper, s->scissors):p\n",
            "Player 2 wins\n"
          ]
        }
      ]
    },
    {
      "cell_type": "code",
      "source": [
        "n1 = float(input('Enter number 1:'))\n",
        "n2 = float(input('Enter number 2:'))\n",
        "symbol = input('Enter symbol (+, -, *, /, **):')\n",
        "\n",
        "if symbol == '+':\n",
        "  print(n1 + n2)\n",
        "elif symbol == '-':\n",
        "  print(n1 - n2)\n",
        "elif symbol == '*':\n",
        "  print(n1 * n2)\n",
        "elif symbol == '/':\n",
        "  print(n1 / n2)\n",
        "elif symbol == '**':\n",
        "  print(n1 ** n2)"
      ],
      "metadata": {
        "id": "snPDIW5WxRu3",
        "colab": {
          "base_uri": "https://localhost:8080/"
        },
        "outputId": "a90e5ca2-8d80-4c84-a838-f2109464a1ea"
      },
      "execution_count": 9,
      "outputs": [
        {
          "output_type": "stream",
          "name": "stdout",
          "text": [
            "Enter number 1:2\n",
            "Enter number 2:3\n",
            "Enter symbol (+, -, *, /, **):**\n",
            "8.0\n"
          ]
        }
      ]
    }
  ]
}