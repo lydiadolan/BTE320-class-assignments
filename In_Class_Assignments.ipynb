{
  "nbformat": 4,
  "nbformat_minor": 0,
  "metadata": {
    "colab": {
      "provenance": [],
      "authorship_tag": "ABX9TyNMsP5SKMI2so+46kRLL8ii",
      "include_colab_link": true
    },
    "kernelspec": {
      "name": "python3",
      "display_name": "Python 3"
    },
    "language_info": {
      "name": "python"
    }
  },
  "cells": [
    {
      "cell_type": "markdown",
      "metadata": {
        "id": "view-in-github",
        "colab_type": "text"
      },
      "source": [
        "<a href=\"https://colab.research.google.com/github/lydiadolan/BTE320-class-assignments/blob/main/In_Class_Assignments.ipynb\" target=\"_parent\"><img src=\"https://colab.research.google.com/assets/colab-badge.svg\" alt=\"Open In Colab\"/></a>"
      ]
    },
    {
      "cell_type": "code",
      "execution_count": null,
      "metadata": {
        "colab": {
          "base_uri": "https://localhost:8080/"
        },
        "id": "YaOB3vaokKoL",
        "outputId": "8e249a2c-43a0-452c-8b18-297b38f3e42a"
      },
      "outputs": [
        {
          "output_type": "stream",
          "name": "stdout",
          "text": [
            "244.92000000000002\n"
          ]
        }
      ],
      "source": [
        "# Calculate surface area cylinder\n",
        "pi = 3.14 # Pi\n",
        "r = 3 # Radius\n",
        "h = 10 # Height\n",
        "\n",
        "# Calc area\n",
        "Area = 2 * pi * r * h + 2 * pi * r ** 2\n",
        "# Display result on screen\n",
        "print (Area)"
      ]
    },
    {
      "cell_type": "code",
      "source": [
        "play = input('Continue playing? (yes or no):')\n",
        "\n",
        "while play == 'yes':\n",
        "\n",
        "  p1 = input('Enter player 1 move (r->rock, p->paper, s->scissors):')\n",
        "  p2 = input('Enter player 2 move (r->rock, p->paper, s->scissors):')\n",
        "\n",
        "  if p1 == p2:\n",
        "    print('Draw')\n",
        "  elif p1 == 'r':\n",
        "    if p2 == 'p':\n",
        "      print('Player 2 wins')\n",
        "    if p2 == 's':\n",
        "      print('Player 1')\n",
        "  elif p1 == 'p':\n",
        "    if p2 == 'r':\n",
        "      print('Player 1 wins')\n",
        "    if p2 == 's':\n",
        "     print('Player 2 wins')\n",
        "  elif p1 == 's':\n",
        "    if p2 == 'r':\n",
        "      print('Player 2 wins')\n",
        "    if p2 == 'p':\n",
        "     print('Player 1 wins')\n",
        "  play = input('Continue playing? (yes or no):')\n"
      ],
      "metadata": {
        "colab": {
          "base_uri": "https://localhost:8080/"
        },
        "id": "N85Re1cQsOqV",
        "outputId": "95e27e6a-27ef-47f3-b7f0-a8c4b23f5193"
      },
      "execution_count": null,
      "outputs": [
        {
          "name": "stdout",
          "output_type": "stream",
          "text": [
            "Continue playing? (yes or no):yes\n",
            "Enter player 1 move (r->rock, p->paper, s->scissors):r\n",
            "Enter player 2 move (r->rock, p->paper, s->scissors):p\n",
            "Player 2 wins\n",
            "Continue playing? (yes or no):no\n"
          ]
        }
      ]
    },
    {
      "cell_type": "code",
      "source": [
        "n1 = float(input('Enter number 1:'))\n",
        "n2 = float(input('Enter number 2:'))\n",
        "symbol = input('Enter symbol (+, -, *, /, **):')\n",
        "\n",
        "if symbol == '+':\n",
        "  print(n1 + n2)\n",
        "elif symbol == '-':\n",
        "  print(n1 - n2)\n",
        "elif symbol == '*':\n",
        "  print(n1 * n2)\n",
        "elif symbol == '/':\n",
        "  print(n1 / n2)\n",
        "elif symbol == '**':\n",
        "  print(n1 ** n2)"
      ],
      "metadata": {
        "id": "snPDIW5WxRu3",
        "colab": {
          "base_uri": "https://localhost:8080/"
        },
        "outputId": "a90e5ca2-8d80-4c84-a838-f2109464a1ea"
      },
      "execution_count": null,
      "outputs": [
        {
          "output_type": "stream",
          "name": "stdout",
          "text": [
            "Enter number 1:2\n",
            "Enter number 2:3\n",
            "Enter symbol (+, -, *, /, **):**\n",
            "8.0\n"
          ]
        }
      ]
    },
    {
      "cell_type": "code",
      "source": [
        "flat_rate = 5\n",
        "hourly_rate = 2.5\n",
        "Minimum_fee = 10\n",
        "Maximum_fee = 20\n",
        "\n",
        "for i in range(1,9):\n",
        "  charge = flat_rate + i * hourly_rate\n",
        "  if charge < Minimum_fee:\n",
        "    charge = Minimum_fee\n",
        "  elif charge > Maximum_fee:\n",
        "    charge = Maximum_fee\n",
        "  print(i, charge)"
      ],
      "metadata": {
        "colab": {
          "base_uri": "https://localhost:8080/"
        },
        "id": "LsjX9esOwdz_",
        "outputId": "b727b731-63b7-4b1e-b413-2cdacc7b43b9"
      },
      "execution_count": null,
      "outputs": [
        {
          "output_type": "stream",
          "name": "stdout",
          "text": [
            "1 10\n",
            "2 10.0\n",
            "3 12.5\n",
            "4 15.0\n",
            "5 17.5\n",
            "6 20.0\n",
            "7 20\n",
            "8 20\n"
          ]
        }
      ]
    },
    {
      "cell_type": "code",
      "source": [
        "print('Ad$', 'Profit')\n",
        "\n",
        "for ad in range(0, 201, 25):\n",
        "  additionalAttendees = round(2 * ad ** 0.5)\n",
        "  profit = (20 + additionalAttendees) * 10 - ad - 200\n",
        "  print(ad, ' ', profit)"
      ],
      "metadata": {
        "colab": {
          "base_uri": "https://localhost:8080/"
        },
        "id": "fQH81PV0xMyu",
        "outputId": "23f03540-d287-4c6a-f6e6-0e311b77f73f"
      },
      "execution_count": null,
      "outputs": [
        {
          "output_type": "stream",
          "name": "stdout",
          "text": [
            "Ad$ Profit\n",
            "0   0\n",
            "25   75\n",
            "50   90\n",
            "75   95\n",
            "100   100\n",
            "125   95\n",
            "150   90\n",
            "175   85\n",
            "200   80\n"
          ]
        }
      ]
    },
    {
      "cell_type": "code",
      "source": [
        "L = []\n",
        "\n",
        "item = int(input('Give a value: '))\n",
        "\n",
        "while item != 0:\n",
        "  L.append(item)\n",
        "  item = int(input('Give another value: '))\n",
        "print(L)\n"
      ],
      "metadata": {
        "colab": {
          "base_uri": "https://localhost:8080/"
        },
        "id": "X5T-7pBkItGU",
        "outputId": "930971a8-2f55-4567-b0e5-fc3db677ab7f"
      },
      "execution_count": 4,
      "outputs": [
        {
          "output_type": "stream",
          "name": "stdout",
          "text": [
            "Give a value: 1\n",
            "Give another value: 4\n",
            "Give another value: 3\n",
            "Give another value: 6\n",
            "Give another value: 3\n",
            "Give another value: 0\n",
            "[1, 4, 3, 6, 3]\n"
          ]
        }
      ]
    },
    {
      "cell_type": "code",
      "source": [
        "months = {}\n",
        "\n",
        "names = ['Jan', 'Feb', 'Mar', 'Apr', 'May', 'Jun', 'Jul', 'Aug', 'Sep', 'Oct', 'Nov', 'Dec']\n",
        "numbers = [1,2,3,4,5,6,7,8,9,10,11,12]\n",
        "\n",
        "for idx in numbers:\n",
        "  months[idx] = names[idx - 1]\n",
        "months"
      ],
      "metadata": {
        "colab": {
          "base_uri": "https://localhost:8080/"
        },
        "id": "f6HzqR5948I3",
        "outputId": "b4bf1ffc-f976-4011-d7c9-ea50c8e82e7f"
      },
      "execution_count": 6,
      "outputs": [
        {
          "output_type": "execute_result",
          "data": {
            "text/plain": [
              "{1: 'Jan',\n",
              " 2: 'Feb',\n",
              " 3: 'Mar',\n",
              " 4: 'Apr',\n",
              " 5: 'May',\n",
              " 6: 'Jun',\n",
              " 7: 'Jul',\n",
              " 8: 'Aug',\n",
              " 9: 'Sep',\n",
              " 10: 'Oct',\n",
              " 11: 'Nov',\n",
              " 12: 'Dec'}"
            ]
          },
          "metadata": {},
          "execution_count": 6
        }
      ]
    }
  ]
}